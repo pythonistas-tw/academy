{
 "cells": [
  {
   "cell_type": "code",
   "execution_count": 1,
   "metadata": {
    "collapsed": false
   },
   "outputs": [],
   "source": [
    "#!/usr/local/bin/python3\n",
    "import os\n",
    "import csv"
   ]
  },
  {
   "cell_type": "code",
   "execution_count": 2,
   "metadata": {
    "collapsed": false
   },
   "outputs": [],
   "source": [
    "file_list = []\n",
    "dir_path = '../../../lvr_landcsv/'\n",
    "file_extension = '.CSV'\n",
    "outdir_path = '../../../converted_lvr_landcsv/'\n",
    "for file in os.listdir(dir_path): # \".\" means current directory\n",
    "    if file.endswith(file_extension):\n",
    "        file_list.append(file)\n",
    "try:\n",
    "    os.mkdir(outdir_path)\n",
    "except FileExistsError:\n",
    "    pass\n",
    "for i in range(len(file_list)):\n",
    "    with open(dir_path+file_list[i], newline='', encoding='cp950',errors='ignore') as csvfile:\n",
    "        reader = csv.reader(csvfile)\n",
    "        with open(outdir_path+file_list[i],'w', newline='', encoding='utf-8',) as csvfile2:\n",
    "            writer = csv.writer(csvfile2)\n",
    "            for row in reader:\n",
    "                writer.writerow(row)            "
   ]
  },
  {
   "cell_type": "code",
   "execution_count": null,
   "metadata": {
    "collapsed": true
   },
   "outputs": [],
   "source": []
  }
 ],
 "metadata": {
  "kernelspec": {
   "display_name": "Python 3",
   "language": "python",
   "name": "python3"
  },
  "language_info": {
   "codemirror_mode": {
    "name": "ipython",
    "version": 3
   },
   "file_extension": ".py",
   "mimetype": "text/x-python",
   "name": "python",
   "nbconvert_exporter": "python",
   "pygments_lexer": "ipython3",
   "version": "3.5.1"
  }
 },
 "nbformat": 4,
 "nbformat_minor": 0
}
